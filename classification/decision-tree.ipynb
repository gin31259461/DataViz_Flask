{
 "cells": [
  {
   "cell_type": "markdown",
   "metadata": {},
   "source": [
    "# Path analysis for data discovery\n",
    "This program is used to perform analysis on data category separation, exploring more valuable information."
   ]
  },
  {
   "cell_type": "code",
   "execution_count": null,
   "metadata": {},
   "outputs": [],
   "source": [
    "from setup import setup\n",
    "import sys\n",
    "from pathlib import Path\n",
    "import pandas as pd\n",
    "import json\n",
    "from typing import Tuple, Type\n",
    "\n",
    "sys.path.append(f\"{Path.cwd().parent.absolute()}/\")\n",
    "\n",
    "db = setup()"
   ]
  },
  {
   "cell_type": "markdown",
   "metadata": {},
   "source": [
    "## Required parameters\n",
    "* OID: int >> data id\n",
    "* target: str >> target column name\n",
    "* skip_features: list[str] >> exclude feature from attribute list\n",
    "* datetime_format: str >> if there has datetime column, use this format to parse datetime column"
   ]
  },
  {
   "cell_type": "code",
   "execution_count": null,
   "metadata": {},
   "outputs": [],
   "source": [
    "OID = 139\n",
    "depth = 30\n",
    "skip_features = []\n",
    "datetime_format = \"\"\n",
    "# 讓欄位有大小關係，可以是大小，亦或是重要度排序\n",
    "category_order = {\"教育程度類別\": [\"其他\", \"高中高職\", \"專科\", \"大學\", \"碩士\", \"博士\"]}\n",
    "# target = \"教育程度類別\"\n",
    "# target = \"產業別\"\n",
    "target = \"信用卡交易金額[新台幣]\"\n",
    "# target = \"性別\"\n",
    "# target = \"信用卡交易筆數\"\n",
    "important_value_of_feature = {\"地區\": [\"南投縣\"], \"年月\": [\"(2014-01-01 00:00:00, 2015-01-01 00:00:00]\"], \"教育程度類別\": [\"大學\"]}"
   ]
  },
  {
   "cell_type": "markdown",
   "metadata": {},
   "source": [
    "### Fetch data from database"
   ]
  },
  {
   "cell_type": "code",
   "execution_count": null,
   "metadata": {},
   "outputs": [],
   "source": [
    "from sqlalchemy import text\n",
    "\n",
    "query = text(f\"SELECT * FROM [RawDB].[dbo].[D{OID}]\")\n",
    "RawData = db.execute(query)\n",
    "\n",
    "query = text(\"SELECT * FROM [DV].[dbo].[Object] where OID = :OID\")\n",
    "Object = db.execute(query, OID=OID).fetchall()\n",
    "\n",
    "df = pd.DataFrame(RawData.fetchall())\n",
    "copy_of_df = df.copy()\n",
    "\n",
    "Object_df = pd.DataFrame(Object)\n",
    "\n",
    "print(Object_df[\"CName\"])\n",
    "print(df.shape)\n",
    "\n",
    "df"
   ]
  },
  {
   "cell_type": "markdown",
   "metadata": {},
   "source": [
    "## Exploratory data analysis and feature engineering\n",
    "* Clean and pre-processing data\n",
    "* Split data to training sets (70% - 80%) and test sets\n",
    "* Feature engineering: category values are encoded and other suitable changes are made to the data\n",
    "* Predictive model is ready"
   ]
  },
  {
   "cell_type": "markdown",
   "metadata": {},
   "source": [
    "### Show all column of this data"
   ]
  },
  {
   "cell_type": "code",
   "execution_count": null,
   "metadata": {},
   "outputs": [],
   "source": [
    "column_names: list[str] = df.columns.to_list()\n",
    "column_names"
   ]
  },
  {
   "cell_type": "markdown",
   "metadata": {},
   "source": [
    "### Check if has null value"
   ]
  },
  {
   "cell_type": "code",
   "execution_count": null,
   "metadata": {},
   "outputs": [],
   "source": [
    "df.isnull().sum()"
   ]
  },
  {
   "cell_type": "markdown",
   "metadata": {},
   "source": [
    "### Datetime column quantization"
   ]
  },
  {
   "cell_type": "markdown",
   "metadata": {},
   "source": [
    "##### Initial variables"
   ]
  },
  {
   "cell_type": "code",
   "execution_count": null,
   "metadata": {},
   "outputs": [],
   "source": [
    "datetime_format_list = [\"%Y-%m-%d\", \"%Y-%m\", \"%Y%m%d\", \"%Y%m\", \"%Y\"]\n",
    "datetime_column_tuple: Tuple[str, Type[pd.Timestamp], Type[pd.Timestamp]] = []\n",
    "\n",
    "if len(datetime_format) != 0:\n",
    "    datetime_format_list.insert(0, datetime_format)"
   ]
  },
  {
   "cell_type": "markdown",
   "metadata": {},
   "source": [
    "#### Find datetime column, also record min and max value"
   ]
  },
  {
   "cell_type": "code",
   "execution_count": null,
   "metadata": {},
   "outputs": [],
   "source": [
    "# to_datetime reference: https://pandas.pydata.org/docs/reference/api/pandas.to_datetime.html\n",
    "\n",
    "for col in column_names:\n",
    "    is_datetime = df[col].dtype == \"datetime64[ns]\"\n",
    "    if is_datetime:\n",
    "        datetime_column_tuple.append(\n",
    "            [\n",
    "                col,\n",
    "                df[col].min(),\n",
    "                df[col].max(),\n",
    "            ]\n",
    "        )\n",
    "        continue\n",
    "    for test_format in datetime_format_list:\n",
    "        is_numeric = df[col].dtype == \"int64\"\n",
    "        is_datetime = is_numeric and (\n",
    "            True\n",
    "            not in pd.to_datetime(arg=df[col].astype(\"str\"), format=test_format, errors=\"coerce\")\n",
    "            .isna()\n",
    "            .value_counts()\n",
    "            .index.to_list()\n",
    "        )\n",
    "        if is_datetime:\n",
    "            parsed_datetime = pd.to_datetime(\n",
    "                arg=df[col], format=test_format, errors=\"coerce\")\n",
    "            df[col] = parsed_datetime\n",
    "            datetime_column_tuple.append(\n",
    "                [\n",
    "                    col,\n",
    "                    parsed_datetime.min(),\n",
    "                    parsed_datetime.max(),\n",
    "                ]\n",
    "            )\n",
    "            break\n",
    "\n",
    "datetime_column_tuple"
   ]
  },
  {
   "cell_type": "markdown",
   "metadata": {},
   "source": [
    "#### Quantize found datetime column"
   ]
  },
  {
   "cell_type": "code",
   "execution_count": null,
   "metadata": {},
   "outputs": [],
   "source": [
    "# Quantize datetime problem reference:\n",
    "# https://stackoverflow.com/questions/43500894/pandas-pd-cut-binning-datetime-column-series\n",
    "quantile_mapping = {}\n",
    "datetime_columns = []\n",
    "\n",
    "for tuple in datetime_column_tuple:\n",
    "    # date_range reference: https://pandas.pydata.org/docs/reference/api/pandas.date_range.html\n",
    "    # Frequency reference: https://pandas.pydata.org/docs/user_guide/timeseries.html#timeseries-offset-aliases\n",
    "    # 季度開始 -> QS\n",
    "    # 年份開始 -> YS\n",
    "    # TODO: 測試時間用哪個頻率進行離散化效果最好，季度 or 年度 or 月 etc.\n",
    "    # * 逐一比較不同頻率的交叉驗證平均分數 (cross validation average score)\n",
    "    # * 分數越高代表頻率更適合\n",
    "    col = tuple[0]\n",
    "    datetime_columns.append(col)\n",
    "    datetime_range = pd.date_range(start=tuple[1], end=tuple[2], freq=\"YS\")\n",
    "    datetime_range = datetime_range.union([tuple[2]])\n",
    "    labels = [\"({}, {}]\".format(datetime_range[i - 1], datetime_range[i])\n",
    "              for i in range(1, len(datetime_range))]\n",
    "    quantile_interval = pd.cut(\n",
    "        df[col], bins=datetime_range, include_lowest=True)\n",
    "    df[col] = pd.Series(\n",
    "        pd.Categorical(values=pd.cut(\n",
    "            df[col], bins=datetime_range, labels=labels, include_lowest=True), ordered=True)\n",
    "    )\n",
    "    quantile_mapping[col] = pd.Series(\n",
    "        data=quantile_interval.unique().tolist(), index=df[col].unique().tolist())"
   ]
  },
  {
   "cell_type": "markdown",
   "metadata": {},
   "source": [
    "### Numerical column"
   ]
  },
  {
   "cell_type": "markdown",
   "metadata": {},
   "source": [
    "#### Counting min and max value"
   ]
  },
  {
   "cell_type": "code",
   "execution_count": null,
   "metadata": {},
   "outputs": [],
   "source": [
    "numerical_column_tuple: Tuple[str, int, int] = []\n",
    "for col in column_names:\n",
    "    column_ratio = len(df[col].unique()) / df[col].count()\n",
    "    is_categorical_column = df[col].dtype == \"object\" or df[col].dtype == \"category\" or column_ratio < 0.01\n",
    "    is_numerical_column = df[col].dtype == \"int64\" and not is_categorical_column\n",
    "    if is_numerical_column:\n",
    "        numerical_column_tuple.append([col, df[col].min(), df[col].max()])\n",
    "\n",
    "numerical_column_tuple"
   ]
  },
  {
   "cell_type": "markdown",
   "metadata": {},
   "source": [
    "### Selection of target and features"
   ]
  },
  {
   "cell_type": "code",
   "execution_count": null,
   "metadata": {},
   "outputs": [],
   "source": [
    "# 1. 處理不同型別的屬性 (類別型，數值型) -> 都可當作分析目標\n",
    "# 2. 排除不想要的屬性，並且不加入 features (X) 裡面\n",
    "\n",
    "\n",
    "for col in category_order:\n",
    "    df[col] = pd.Series(pd.Categorical(values=df[col], categories=category_order[col], ordered=True))\n",
    "\n",
    "# TODO: attribute combination\n",
    "\n",
    "quantile_numeric = []\n",
    "\n",
    "for tuple in numerical_column_tuple:\n",
    "    col = tuple[0]\n",
    "    quantile_labels = [\"low\", \"middle\", \"high\"]\n",
    "    discrete_bin_num = 3\n",
    "    quantile = pd.qcut(df[col], q=discrete_bin_num)\n",
    "    quantile_numeric.append(col)\n",
    "    df[col] = pd.qcut(df[col], q=discrete_bin_num, labels=quantile_labels)\n",
    "    quantile_mapping[col] = pd.Series(data=quantile.unique().tolist(), index=df[col].unique().tolist())\n",
    "\n",
    "X: pd.DataFrame\n",
    "try:\n",
    "    X = df.drop([target] + skip_features, axis=1)\n",
    "except KeyError:\n",
    "    print(\"Column of target or skip features are not exist in data frame\")\n",
    "\n",
    "feature_names = X.columns.tolist()\n",
    "\n",
    "y = df[target].astype(\"string\")\n",
    "target_values = y.unique().tolist()\n",
    "\n",
    "# TODO: 到此可以回傳預處理的結果，讓使用者可以選擇想要看到的部份 : important_value_of_feature\n",
    "\n",
    "target_values"
   ]
  },
  {
   "cell_type": "markdown",
   "metadata": {},
   "source": [
    "### Encode category column of features"
   ]
  },
  {
   "cell_type": "markdown",
   "metadata": {},
   "source": [
    "#### Initialization"
   ]
  },
  {
   "cell_type": "code",
   "execution_count": null,
   "metadata": {},
   "outputs": [],
   "source": [
    "category_frame = X.select_dtypes(include=[\"object\", \"category\"])\n",
    "category_frame"
   ]
  },
  {
   "cell_type": "code",
   "execution_count": null,
   "metadata": {},
   "outputs": [],
   "source": [
    "import category_encoders as ce\n",
    "\n",
    "encoder = ce.OrdinalEncoder(cols=category_frame.columns)\n",
    "X = pd.DataFrame(encoder.fit_transform(X))\n",
    "X"
   ]
  },
  {
   "cell_type": "markdown",
   "metadata": {},
   "source": [
    "#### Encoder mapping"
   ]
  },
  {
   "cell_type": "code",
   "execution_count": null,
   "metadata": {},
   "outputs": [],
   "source": [
    "category_column_mapping = encoder.mapping\n",
    "category_column_mapping"
   ]
  },
  {
   "cell_type": "markdown",
   "metadata": {},
   "source": [
    "### Split data to training and test dataset\n",
    "Purpose: find dependencies between target and feature column"
   ]
  },
  {
   "cell_type": "code",
   "execution_count": null,
   "metadata": {},
   "outputs": [],
   "source": [
    "from sklearn.model_selection import train_test_split\n",
    "\n",
    "X_train, X_test, y_train, y_test = train_test_split(\n",
    "    X, y, test_size=0.33, random_state=42)\n",
    "X_train.shape, X_test.shape"
   ]
  },
  {
   "cell_type": "markdown",
   "metadata": {},
   "source": [
    "## Fitting the model, evaluating the results and visualizing the trees\n",
    "* Data totally prepared\n",
    "* Classifier is instantiated\n",
    "* Model is fit onto the data\n",
    "* Ensure the model is neither over fitting and under fitting the data\n",
    "* Evaluate classifier: confusion matrix, precision score, f1 score, recall, support scores"
   ]
  },
  {
   "cell_type": "markdown",
   "metadata": {},
   "source": [
    "### Initial variables"
   ]
  },
  {
   "cell_type": "code",
   "execution_count": null,
   "metadata": {},
   "outputs": [],
   "source": [
    "row_counts = len(X.index)\n",
    "max_depth = depth\n",
    "min_samples_split = 0\n",
    "min_samples_leaf = 0\n",
    "\n",
    "is_big_data = row_counts > 10000\n",
    "\n",
    "if is_big_data:\n",
    "    # 確保葉節點有足夠的樣本進行有意義的分析，同時避免過度細分\n",
    "    # 100 - 1000\n",
    "    min_samples_leaf = 100\n",
    "    # 確保在分割內部節點之前有足夠的樣本數\n",
    "    # 10 - 50\n",
    "    min_samples_split = 10\n",
    "else:\n",
    "    # 確保每個葉節點至少有一些樣本進行分析\n",
    "    # 1 or 2\n",
    "    min_samples_leaf = 1\n",
    "    # 確保在內部節點的樣本數較少時也可以進行分割\n",
    "    # 2 - 5\n",
    "    min_samples_split = 2"
   ]
  },
  {
   "cell_type": "markdown",
   "metadata": {},
   "source": [
    "### Fitting training data into decision tree classifier"
   ]
  },
  {
   "cell_type": "code",
   "execution_count": null,
   "metadata": {},
   "outputs": [],
   "source": [
    "from sklearn.tree import DecisionTreeClassifier\n",
    "\n",
    "clf = DecisionTreeClassifier(\n",
    "    criterion=\"entropy\",\n",
    "    max_depth=max_depth,\n",
    "    random_state=0,\n",
    "    min_samples_split=min_samples_split,\n",
    "    min_samples_leaf=min_samples_leaf,\n",
    ")\n",
    "\n",
    "clf.fit(X_train, y_train)"
   ]
  },
  {
   "cell_type": "markdown",
   "metadata": {},
   "source": [
    "### Dependencies"
   ]
  },
  {
   "cell_type": "markdown",
   "metadata": {},
   "source": [
    "#### Feature importance"
   ]
  },
  {
   "cell_type": "code",
   "execution_count": null,
   "metadata": {},
   "outputs": [],
   "source": [
    "# Pair importance and feature\n",
    "feature_importance = clf.feature_importances_\n",
    "feature_importance_pairs = list(zip(feature_names, feature_importance))\n",
    "# Sort importance\n",
    "feature_importance_pairs.sort(key=lambda pair: pair[1], reverse=True)\n",
    "feature_importance_pairs"
   ]
  },
  {
   "cell_type": "markdown",
   "metadata": {},
   "source": [
    "#### Cross validation and model accuracy"
   ]
  },
  {
   "cell_type": "code",
   "execution_count": null,
   "metadata": {},
   "outputs": [],
   "source": [
    "from sklearn.model_selection import cross_val_score\n",
    "\n",
    "# cv: k-fold, default is 5-fold\n",
    "cross_validation_score = cross_val_score(clf, X, y, cv=5)\n",
    "print(\"交叉驗證分數:\", cross_validation_score)\n",
    "print(\"平均分數:\", cross_validation_score.mean())"
   ]
  },
  {
   "cell_type": "code",
   "execution_count": null,
   "metadata": {},
   "outputs": [],
   "source": [
    "from sklearn.metrics import accuracy_score\n",
    "\n",
    "y_predict_test = clf.predict(X_test)\n",
    "y_predict_train = clf.predict(X_train)\n",
    "\n",
    "print(\"Training set score: {:.4f}\".format(\n",
    "    accuracy_score(y_train, y_predict_train)))\n",
    "print(\"Test set score: {0:0.4f}\".format(\n",
    "    accuracy_score(y_test, y_predict_test)))"
   ]
  },
  {
   "cell_type": "markdown",
   "metadata": {},
   "source": [
    "### Resolve decision tree structure to json"
   ]
  },
  {
   "cell_type": "markdown",
   "metadata": {},
   "source": [
    "#### Types definitions"
   ]
  },
  {
   "cell_type": "code",
   "execution_count": null,
   "metadata": {},
   "outputs": [],
   "source": [
    "from dataclasses import dataclass\n",
    "\n",
    "\n",
    "@dataclass\n",
    "class DecisionTreeNode:\n",
    "    id: int\n",
    "    labels: list[str]\n",
    "\n",
    "\n",
    "@dataclass\n",
    "class DecisionTreeEdge:\n",
    "    id: int\n",
    "    label: str\n",
    "    head: int\n",
    "    tail: int\n",
    "\n",
    "\n",
    "@dataclass\n",
    "class DecisionTreeGraph:\n",
    "    nodes: list[DecisionTreeNode]\n",
    "    edges: dict[str, DecisionTreeEdge]  # node1_node2 as key value\n",
    "\n",
    "\n",
    "@dataclass\n",
    "class DecisionTreePath:\n",
    "    path: list[int]\n",
    "    nodeLabel: dict[int, list[str]]"
   ]
  },
  {
   "cell_type": "markdown",
   "metadata": {},
   "source": [
    "#### Export decision tree from model and reconstruct DecisionTreeGraph"
   ]
  },
  {
   "cell_type": "code",
   "execution_count": null,
   "metadata": {},
   "outputs": [],
   "source": [
    "from sklearn import tree\n",
    "from graphviz import Source\n",
    "\n",
    "output_file_path = f\"{Path.cwd().absolute()}/temp/temp.dot\"\n",
    "\n",
    "# The analysis goal is discovering data, not just training model\n",
    "# ! re-fit the hole data (target and features, X and y), not splitted data\n",
    "\n",
    "clf = DecisionTreeClassifier(\n",
    "    criterion=\"entropy\",\n",
    "    max_depth=max_depth,\n",
    "    random_state=0,\n",
    "    min_samples_split=min_samples_split,\n",
    "    min_samples_leaf=min_samples_leaf,\n",
    ")\n",
    "\n",
    "decision_tree = clf.fit(X, y)\n",
    "\n",
    "# * Scikit-learn decision tree:\n",
    "# Using optimized version of the CART algorithm\n",
    "# Not support categorical variable for now, that is, categorical variable need to encode\n",
    "\n",
    "# * Entropy range:\n",
    "# From 0 to 1 for binary classification (target has only two classes, true or false)\n",
    "# From 0 to log base 2 k where k is the number of classes\n",
    "\n",
    "target_values = decision_tree.classes_.tolist()\n",
    "\n",
    "dotData = tree.export_graphviz(\n",
    "    decision_tree,\n",
    "    out_file=output_file_path,\n",
    "    feature_names=feature_names,\n",
    "    class_names=target_values,\n",
    "    max_depth=max_depth,\n",
    "    label=\"all\",\n",
    "    rounded=True,\n",
    "    filled=True,\n",
    ")\n",
    "\n",
    "with open(output_file_path, \"r\", encoding=\"utf-8\") as f:\n",
    "    dotData = f.read()\n",
    "\n",
    "# Use graphviz lib to convert dot format to json format\n",
    "source = Source(dotData)\n",
    "json_graph = source.pipe(format=\"json\").decode(\"utf-8\")\n",
    "dict_graph: dict = json.loads(json_graph)\n",
    "\n",
    "# Filter needed part\n",
    "nodes = list(\n",
    "    map(\n",
    "        lambda o: {\"id\": o.get(\"_gvid\"), \"labels\": o.get(\n",
    "            \"label\").split(\"\\\\n\")},\n",
    "        dict_graph.get(\"objects\"),\n",
    "    )\n",
    ")\n",
    "\n",
    "edges = dict(\n",
    "    map(\n",
    "        lambda o: (\n",
    "            str(o.get(\"tail\")) + \"_\" + str(o.get(\"head\")),\n",
    "            {\n",
    "                \"id\": o.get(\"_gvid\"),\n",
    "                \"label\": o.get(\"headlabel\"),\n",
    "                \"head\": o.get(\"tail\"),\n",
    "                \"tail\": o.get(\"head\"),\n",
    "            },\n",
    "        ),\n",
    "        dict_graph.get(\"edges\"),\n",
    "    )\n",
    ")"
   ]
  },
  {
   "cell_type": "markdown",
   "metadata": {},
   "source": [
    "#### Store information"
   ]
  },
  {
   "cell_type": "code",
   "execution_count": null,
   "metadata": {},
   "outputs": [],
   "source": [
    "from math import nan\n",
    "\n",
    "\n",
    "data_information: dict[str, str or list or dict] = {}\n",
    "data_information[\"target_name\"] = target\n",
    "data_information[\"target_values\"] = target_values\n",
    "data_information[\"feature_names\"] = feature_names\n",
    "\n",
    "# Numeric\n",
    "feature_values: dict[str, dict[str, str or list]] = {}\n",
    "\n",
    "for n in numerical_column_tuple:\n",
    "    feature_values[n[0]] = {\"type\": \"numeric\", \"value\": [n[1], n[2]]}\n",
    "\n",
    "# Datetime\n",
    "for d in datetime_column_tuple:\n",
    "    format = \"%Y-%m-%d %X\"\n",
    "    feature_values[d[0]] = {\n",
    "        \"type\": \"datetime\",\n",
    "        \"value\": [d[1].strftime(format), d[2].strftime(format)],\n",
    "    }\n",
    "\n",
    "# Category\n",
    "for c in category_column_mapping:\n",
    "    is_datetime_column = c[\"col\"] in datetime_columns\n",
    "    feature_values[c[\"col\"]] = {\n",
    "        \"type\": \"datetime\" if is_datetime_column else \"category\",\n",
    "        \"value\": (c[\"mapping\"].index.to_list()),\n",
    "        \"mapping\": pd.Series(dict((v, k) for k, v in c[\"mapping\"].items())),\n",
    "    }\n",
    "    feature_values[c[\"col\"]][\"value\"].pop()\n",
    "\n",
    "unstored_features = list(set(feature_names) - set(list(feature_values.keys())))\n",
    "\n",
    "# TODO: Custom mapping => 使用者指定 1 男, 2 女\n",
    "for f in unstored_features:\n",
    "    split_value = df[f].unique().astype(\"str\").tolist()\n",
    "    df[f] = df[f].astype(\"str\")\n",
    "\n",
    "    mapping_pairs = dict((i + 1, split_value[i])\n",
    "                         for i in range(len(split_value)))\n",
    "    mapping_pairs[-2] = nan\n",
    "    mapping = pd.Series(mapping_pairs)\n",
    "    feature_values[f] = {\n",
    "        \"type\": \"category\",\n",
    "        \"value\": split_value,\n",
    "        \"mapping\": mapping,\n",
    "    }\n",
    "\n",
    "data_information[\"feature_values\"] = feature_values\n",
    "\n",
    "data_information"
   ]
  },
  {
   "cell_type": "markdown",
   "metadata": {},
   "source": [
    "### Decision tree path parser"
   ]
  },
  {
   "cell_type": "code",
   "execution_count": null,
   "metadata": {},
   "outputs": [],
   "source": [
    "from math import log\n",
    "\n",
    "\n",
    "def DecisionTreePathParser(graph: DecisionTreeGraph, root_id: int = 0):\n",
    "    paths: list[DecisionTreePath] = []\n",
    "\n",
    "    # DFS: Depth-First Search\n",
    "    def SearchPathByDFS(current_id: int = 0, path: list[int] = []):\n",
    "        if not graph:\n",
    "            return\n",
    "\n",
    "        path.append(current_id)\n",
    "\n",
    "        edge_values = list(map(lambda edge: DecisionTreeEdge(\n",
    "            **edge), list(graph.edges.values())))\n",
    "        outgoing_edges = list(\n",
    "            filter(lambda edge: edge.head == current_id, edge_values))\n",
    "\n",
    "        # 如果目前節點沒有出邊（即為最底層節點），將路徑加入結果中\n",
    "        if len(outgoing_edges) == 0:\n",
    "            last_id = path[len(path) - 1]\n",
    "            last_node = DecisionTreeNode(**(graph.nodes[last_id]))\n",
    "            node_labels: dict[int, list[str]] = {}\n",
    "\n",
    "            # ! 排除 entropy 高的 path\n",
    "            entropy = float(last_node.labels[0].split(\" \")[2])\n",
    "\n",
    "            if entropy > log(len(feature_names), 2) / 2:\n",
    "                path.pop()\n",
    "                return\n",
    "            # ! ####################\n",
    "\n",
    "            node_labels[last_id] = last_node.labels\n",
    "\n",
    "            for i in range(0, len(path) - 1):\n",
    "                node_id = path[i]\n",
    "                labels = DecisionTreeNode(**(graph.nodes[node_id])).labels\n",
    "\n",
    "                # 如果下一個的 node id 是上一個 +1 則是 true，不然的話是 false\n",
    "                # * left edge <= => true\n",
    "                # * right edge > => false\n",
    "\n",
    "                next_id = path[i + 1]\n",
    "\n",
    "                if node_id + 1 != next_id:\n",
    "                    new_labels = [*labels]\n",
    "                    condition = new_labels[0]\n",
    "                    split_condition = condition.split(\" \")\n",
    "                    split_condition[1] = \">\"\n",
    "                    new_labels[0] = \" \".join(split_condition)\n",
    "                    node_labels[node_id] = new_labels\n",
    "                    continue\n",
    "\n",
    "                node_labels[node_id] = [*labels]\n",
    "\n",
    "            paths.append(DecisionTreePath([*path], node_labels))\n",
    "\n",
    "        # 遍歷目前節點的所有出邊\n",
    "        else:\n",
    "            for edge in outgoing_edges:\n",
    "                next_id = edge.tail\n",
    "\n",
    "                # 遞迴呼叫深度優先搜索\n",
    "                SearchPathByDFS(next_id, path)\n",
    "\n",
    "        # 回溯，從路徑中移除目前節點\n",
    "        path.pop()\n",
    "\n",
    "    SearchPathByDFS(root_id)\n",
    "\n",
    "    return paths\n",
    "\n",
    "\n",
    "decision_tree_graph = DecisionTreeGraph(nodes, edges)\n",
    "paths = DecisionTreePathParser(decision_tree_graph, 0)\n",
    "print(\"Path counts = {}\".format(len(paths)))"
   ]
  },
  {
   "cell_type": "markdown",
   "metadata": {},
   "source": [
    "### Decision tree path analyzer"
   ]
  },
  {
   "cell_type": "code",
   "execution_count": null,
   "metadata": {},
   "outputs": [],
   "source": [
    "from math import ceil, floor\n",
    "\n",
    "\n",
    "def DecisionTreePathAnalyzer(paths: list[DecisionTreePath], target_values: list[str], feature_names: list[str]):\n",
    "    path_analysis_result: dict = {}\n",
    "    for split_value in target_values:\n",
    "        path_analysis_result[split_value] = []\n",
    "\n",
    "    for path in paths:\n",
    "        path_analysis_result_part = {}\n",
    "\n",
    "        for feature_name in feature_names:\n",
    "            path_analysis_result_part[feature_name] = data_information[\"feature_values\"][feature_name][\"value\"].copy(\n",
    "            )\n",
    "\n",
    "        for node_id in path.path:\n",
    "            labels = path.nodeLabel[node_id][0].split(\" \")\n",
    "            feature_name = labels[0]\n",
    "            split_symbol = labels[1]\n",
    "            split_value = float(labels[2])\n",
    "\n",
    "            if node_id == path.path[len(path.path) - 1]:\n",
    "                class_name = path.nodeLabel[node_id][3].split(\" \")[2]\n",
    "\n",
    "                sample_value = \" \".join(\n",
    "                    path.nodeLabel[node_id][2].split(\" \")[2:]).split(\", \")\n",
    "                sample_value[0] = sample_value[0][1:]\n",
    "                sample_value[len(sample_value) -\n",
    "                             1] = sample_value[len(sample_value) - 1][0:-1]\n",
    "\n",
    "                path_analysis_result_part[\"entropy\"] = float(split_value)\n",
    "                path_analysis_result_part[\"samples\"] = list(\n",
    "                    map(lambda value: int(value), sample_value))\n",
    "                path_analysis_result_part[\"labels\"] = target_values\n",
    "                path_analysis_result_part[\"class\"] = class_name\n",
    "                path_analysis_result_part[\"target\"] = target\n",
    "\n",
    "                path_analysis_result[class_name].append(\n",
    "                    path_analysis_result_part)\n",
    "                break\n",
    "\n",
    "            feature_type = data_information[\"feature_values\"][labels[0]][\"type\"]\n",
    "            split_situation = [split_symbol, feature_type]\n",
    "            mapping: pd.Series = data_information[\"feature_values\"][feature_name][\"mapping\"]\n",
    "\n",
    "            match split_situation:\n",
    "                case [\"<=\", \"category\"]:\n",
    "                    index = path_analysis_result_part[feature_name].index(\n",
    "                        mapping[floor(split_value)])\n",
    "                    path_analysis_result_part[feature_name] = path_analysis_result_part[feature_name][0: index + 1]\n",
    "                case [\"<=\", \"datetime\"]:\n",
    "                    index = path_analysis_result_part[feature_name].index(\n",
    "                        mapping[floor(split_value)])\n",
    "                    path_analysis_result_part[feature_name] = path_analysis_result_part[feature_name][0: index + 1]\n",
    "                # case [\"<=\", \"numeric\"]:\n",
    "                #     if split_value < path_analysis_result_part[feature_name][1]:\n",
    "                #         path_analysis_result_part[feature_name][1] = split_value\n",
    "                case [\">\", \"category\"]:\n",
    "                    index = path_analysis_result_part[feature_name].index(\n",
    "                        mapping[ceil(split_value)])\n",
    "                    path_analysis_result_part[feature_name] = path_analysis_result_part[feature_name][index:]\n",
    "                case [\">\", \"datetime\"]:\n",
    "                    index = path_analysis_result_part[feature_name].index(\n",
    "                        mapping[ceil(split_value)])\n",
    "                    path_analysis_result_part[feature_name] = path_analysis_result_part[feature_name][index:]\n",
    "                # case [\">\", \"numeric\"]:\n",
    "                #     if split_value > path_analysis_result_part[feature_name][0]:\n",
    "                #         path_analysis_result_part[feature_name][0] = split_value\n",
    "                case _:\n",
    "                    print(\"no match case\")\n",
    "\n",
    "    return path_analysis_result\n",
    "\n",
    "\n",
    "path_analysis_result = DecisionTreePathAnalyzer(\n",
    "    paths=paths, target_values=target_values, feature_names=feature_names)\n",
    "\n",
    "path_analysis_result"
   ]
  },
  {
   "cell_type": "markdown",
   "metadata": {},
   "source": [
    "### Final result"
   ]
  },
  {
   "cell_type": "code",
   "execution_count": null,
   "metadata": {},
   "outputs": [],
   "source": [
    "json_str = json.dumps(path_analysis_result)\n",
    "json_object = json.loads(json_str)\n",
    "\n",
    "for k in json_object:\n",
    "    print(k, len(json_object[k]))"
   ]
  },
  {
   "cell_type": "code",
   "execution_count": null,
   "metadata": {},
   "outputs": [],
   "source": [
    "df"
   ]
  },
  {
   "cell_type": "code",
   "execution_count": null,
   "metadata": {},
   "outputs": [],
   "source": [
    "X"
   ]
  },
  {
   "cell_type": "code",
   "execution_count": null,
   "metadata": {},
   "outputs": [],
   "source": [
    "y"
   ]
  },
  {
   "cell_type": "code",
   "execution_count": null,
   "metadata": {},
   "outputs": [],
   "source": [
    "data_information"
   ]
  },
  {
   "cell_type": "code",
   "execution_count": null,
   "metadata": {},
   "outputs": [],
   "source": [
    "quantile_mapping"
   ]
  },
  {
   "cell_type": "markdown",
   "metadata": {},
   "source": [
    "### Tests"
   ]
  },
  {
   "cell_type": "code",
   "execution_count": null,
   "metadata": {},
   "outputs": [],
   "source": [
    "import random\n",
    "\n",
    "target_class = random.choice(target_values)\n",
    "\n",
    "# 測試篩選使用者想要看到的結果\n",
    "test_result = {}\n",
    "\n",
    "for target_value in path_analysis_result:\n",
    "    test_result[target_value] = []\n",
    "    for path_of_target_value in path_analysis_result[target_value]:\n",
    "        flag = True\n",
    "        for feature in important_value_of_feature:\n",
    "            if not bool(set(path_of_target_value[feature]).intersection(important_value_of_feature[feature])):\n",
    "                flag = False\n",
    "                break\n",
    "        if flag:\n",
    "            test_result[target_value].append(path_of_target_value)\n",
    "#####\n",
    "\n",
    "# paths = path_analysis_result[target_class]\n",
    "paths = test_result[target_class]\n",
    "print(f\"{target_class} path count: {len(paths)}\")\n",
    "target_path = random.choice(paths)\n",
    "\n",
    "part_df = df.copy()\n",
    "\n",
    "for feature in feature_names:\n",
    "    temp_df = pd.DataFrame(columns=df.columns)\n",
    "    for value in target_path[feature]:\n",
    "        temp_df = pd.concat([temp_df, part_df.loc[(part_df[feature] == value)]], ignore_index=True)\n",
    "    part_df = temp_df\n",
    "\n",
    "print(f\"Target column of analysis: {target_path['target']}\")\n",
    "print(f\"Most class of this path: {target_path['class']}\")\n",
    "print(part_df[target].value_counts())\n",
    "\n",
    "part_df"
   ]
  },
  {
   "cell_type": "code",
   "execution_count": null,
   "metadata": {},
   "outputs": [],
   "source": [
    "target_path"
   ]
  }
 ],
 "metadata": {
  "kernelspec": {
   "display_name": "Python 3",
   "language": "python",
   "name": "python3"
  },
  "language_info": {
   "codemirror_mode": {
    "name": "ipython",
    "version": 3
   },
   "file_extension": ".py",
   "mimetype": "text/x-python",
   "name": "python",
   "nbconvert_exporter": "python",
   "pygments_lexer": "ipython3",
   "version": "3.11.4"
  },
  "orig_nbformat": 4
 },
 "nbformat": 4,
 "nbformat_minor": 2
}
