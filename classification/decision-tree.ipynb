{
 "cells": [
  {
   "cell_type": "markdown",
   "metadata": {},
   "source": [
    "# Decision tree analysis for data discovery\n",
    "This program is used to perform analysis on data category separation, exploring more valuable information."
   ]
  },
  {
   "cell_type": "code",
   "execution_count": null,
   "metadata": {},
   "outputs": [],
   "source": [
    "import sys\n",
    "from pathlib import Path\n",
    "import pandas as pd\n",
    "import json\n",
    "from sqlalchemy import text\n",
    "\n",
    "sys.path.append(f\"{Path.cwd().parent.absolute()}/\")\n",
    "from setup import setup\n",
    "\n",
    "db = setup()"
   ]
  },
  {
   "cell_type": "markdown",
   "metadata": {},
   "source": [
    "## Required parameters\n",
    "* OID (int): data object id in database\n",
    "* target (str): target column name\n",
    "* skip_features (list[str]): exclude feature from attribute (feature) list\n",
    "* datetime_format (str): if there has datetime column, use this format to parse datetime column"
   ]
  },
  {
   "cell_type": "code",
   "execution_count": null,
   "metadata": {},
   "outputs": [],
   "source": [
    "OID = 139\n",
    "skip_features = []\n",
    "datetime_format = \"\"\n",
    "target = \"教育程度類別\"\n",
    "# target = \"信用卡交易金額[新台幣]\"\n",
    "# target = \"性別\"\n",
    "# target = \"產業別\"\n",
    "# target = \"信用卡交易筆數\""
   ]
  },
  {
   "cell_type": "markdown",
   "metadata": {},
   "source": [
    "### Fetch data from database"
   ]
  },
  {
   "cell_type": "code",
   "execution_count": null,
   "metadata": {},
   "outputs": [],
   "source": [
    "query = text(f\"SELECT * FROM [RawDB].[dbo].[D{OID}]\")\n",
    "data = db.execute(query)\n",
    "query = text(\"SELECT * FROM [DV].[dbo].[Object] where OID = :OID\")\n",
    "object = db.execute(query, OID=OID).fetchall()\n",
    "df = pd.DataFrame(data.fetchall())\n",
    "data_object = pd.DataFrame(object)\n",
    "print(data_object[\"CName\"])\n",
    "print(df.shape)\n",
    "df.head()"
   ]
  },
  {
   "cell_type": "markdown",
   "metadata": {},
   "source": [
    "## Exploratory data analysis and feature engineering\n",
    "* Clean and pre-processing data\n",
    "* Split data to training sets (70% - 80%) and test sets\n",
    "* Feature engineering: category values are encoded and other suitable changes are made to the data\n",
    "* Predictive model is ready"
   ]
  },
  {
   "cell_type": "markdown",
   "metadata": {},
   "source": [
    "### Show all column of this data"
   ]
  },
  {
   "cell_type": "code",
   "execution_count": null,
   "metadata": {},
   "outputs": [],
   "source": [
    "column_names: list[str] = df.columns.to_list()\n",
    "column_names"
   ]
  },
  {
   "cell_type": "markdown",
   "metadata": {},
   "source": [
    "### Check if has null value"
   ]
  },
  {
   "cell_type": "code",
   "execution_count": null,
   "metadata": {},
   "outputs": [],
   "source": [
    "df.isnull().sum()"
   ]
  },
  {
   "cell_type": "markdown",
   "metadata": {},
   "source": [
    "### Datetime column quantization"
   ]
  },
  {
   "cell_type": "markdown",
   "metadata": {},
   "source": [
    "##### Initial variables"
   ]
  },
  {
   "cell_type": "code",
   "execution_count": null,
   "metadata": {},
   "outputs": [],
   "source": [
    "from typing import Tuple, Type\n",
    "\n",
    "\n",
    "datetime_format_list = [\"%Y-%m-%d\", \"%Y-%m\", \"%Y%m%d\", \"%Y%m\", \"%Y\"]\n",
    "# [column_name, earliest_time, latest_time]\n",
    "datetime_column_earliest_latest_tuple: Tuple[str, Type[pd.Timestamp], Type[pd.Timestamp]] = []\n",
    "\n",
    "if len(datetime_format) != 0:\n",
    "    datetime_format_list.insert(0, datetime_format)"
   ]
  },
  {
   "cell_type": "markdown",
   "metadata": {},
   "source": [
    "#### Find datetime column, also record min and max value"
   ]
  },
  {
   "cell_type": "code",
   "execution_count": null,
   "metadata": {},
   "outputs": [],
   "source": [
    "# to_datetime reference: https://pandas.pydata.org/docs/reference/api/pandas.to_datetime.html\n",
    "\n",
    "for col in column_names:\n",
    "    is_datetime = df[col].dtype == \"datetime64[ns]\"\n",
    "    if is_datetime:\n",
    "        datetime_column_earliest_latest_tuple.append(\n",
    "            [\n",
    "                col,\n",
    "                df[col].min(),\n",
    "                df[col].max(),\n",
    "            ]\n",
    "        )\n",
    "        continue\n",
    "    for test_format in datetime_format_list:\n",
    "        is_numeric = df[col].dtype == \"int64\"\n",
    "        is_datetime = is_numeric and (\n",
    "            True\n",
    "            not in pd.to_datetime(arg=df[col].astype(\"str\"), format=test_format, errors=\"coerce\")\n",
    "            .isna()\n",
    "            .value_counts()\n",
    "            .index.to_list()\n",
    "        )\n",
    "        if is_datetime:\n",
    "            parsed_datetime = pd.to_datetime(arg=df[col], format=test_format, errors=\"coerce\")\n",
    "            df[col] = parsed_datetime\n",
    "            datetime_column_earliest_latest_tuple.append(\n",
    "                [\n",
    "                    col,\n",
    "                    parsed_datetime.min(),\n",
    "                    parsed_datetime.max(),\n",
    "                ]\n",
    "            )\n",
    "            break\n",
    "\n",
    "datetime_column_earliest_latest_tuple"
   ]
  },
  {
   "cell_type": "markdown",
   "metadata": {},
   "source": [
    "#### Quantize found datetime column"
   ]
  },
  {
   "cell_type": "code",
   "execution_count": null,
   "metadata": {},
   "outputs": [],
   "source": [
    "# Quantize datetime problem reference:\n",
    "# https://stackoverflow.com/questions/43500894/pandas-pd-cut-binning-datetime-column-series\n",
    "# ! this section can only execute once\n",
    "for tuple in datetime_column_earliest_latest_tuple:\n",
    "    # date_range reference: https://pandas.pydata.org/docs/reference/api/pandas.date_range.html\n",
    "    # Frequency reference: https://pandas.pydata.org/docs/user_guide/timeseries.html#timeseries-offset-aliases\n",
    "    # 季度開始 -> QS\n",
    "    # 年份開始 -> YS\n",
    "    # TODO: 測試時間用哪個頻率進行離散化效果最好，季度 or 年度 or 月 etc.\n",
    "    # * 逐一比較不同頻率的交叉驗證平均分數 (cross validation average score)\n",
    "    # * 分數越高代表頻率更適合\n",
    "    datetime_range = pd.date_range(start=tuple[1], end=tuple[2], freq=\"QS\")\n",
    "    datetime_range = datetime_range.union([tuple[2]])\n",
    "    labels = [\"({}, {}]\".format(datetime_range[i - 1], datetime_range[i]) for i in range(1, len(datetime_range))]\n",
    "    # ! this line of code can only cut once\n",
    "    df[tuple[0]] = pd.cut(df[tuple[0]], bins=datetime_range, labels=labels, include_lowest=True)"
   ]
  },
  {
   "cell_type": "markdown",
   "metadata": {},
   "source": [
    "### Numerical column"
   ]
  },
  {
   "cell_type": "markdown",
   "metadata": {},
   "source": [
    "#### Counting min and max value"
   ]
  },
  {
   "cell_type": "code",
   "execution_count": null,
   "metadata": {},
   "outputs": [],
   "source": [
    "# [column_name, minimum_value, maximum_value]\n",
    "numerical_column_max_min_tuple: Tuple[str, int, int] = []\n",
    "for col in column_names:\n",
    "    is_numeric = df[col].dtype == \"int64\"\n",
    "    is_category_column = len(df[col].unique()) <= 10\n",
    "    if is_numeric and (not is_category_column):\n",
    "        numerical_column_max_min_tuple.append([col, df[col].min(), df[col].max()])\n",
    "\n",
    "numerical_column_max_min_tuple"
   ]
  },
  {
   "cell_type": "markdown",
   "metadata": {},
   "source": [
    "### Handle target and features"
   ]
  },
  {
   "cell_type": "code",
   "execution_count": null,
   "metadata": {},
   "outputs": [],
   "source": [
    "# 1. 處理不同型別的屬性 (類別型，數值型) -> 都可當作分析目標\n",
    "# 2. 排除不想要的屬性，並且不加入 features (X) 裡面\n",
    "# * 針對路徑中沒被用到的屬性\n",
    "#   1. 類別型: 代表所有類別\n",
    "#   2. 數值型: 代表在 MIN - MAX 區間\n",
    "#   3. 時間型: 代表在最早與最晚的區間內\n",
    "\n",
    "# Count target column ratio to determine its data type\n",
    "target_column_ratio = len(df[target].unique()) / df[target].count()\n",
    "# if not, it's numeric\n",
    "is_category_column = df[target].dtype == \"object\" or target_column_ratio < 0.01\n",
    "X: pd.DataFrame\n",
    "try:\n",
    "    X = df.drop([target] + skip_features, axis=1)\n",
    "except KeyError:\n",
    "    print(\"Column of target or skip features not exist in data frame\")\n",
    "feature_names = X.columns.to_list()\n",
    "# If value of target column are numeric, divide it into multiple intervals (discretize)\n",
    "quantization_labels = [\"low\", \"middle\", \"high\"]\n",
    "discrete_bin_num = 3\n",
    "y = (\n",
    "    df[target].astype(\"string\")\n",
    "    if is_category_column\n",
    "    else pd.qcut(df[target], q=discrete_bin_num, labels=quantization_labels)\n",
    ")\n",
    "target_class_names = y.unique().tolist()\n",
    "target_class_names"
   ]
  },
  {
   "cell_type": "markdown",
   "metadata": {},
   "source": [
    "### Encode category column of features"
   ]
  },
  {
   "cell_type": "markdown",
   "metadata": {},
   "source": [
    "#### Initialization"
   ]
  },
  {
   "cell_type": "code",
   "execution_count": null,
   "metadata": {},
   "outputs": [],
   "source": [
    "import category_encoders as ce\n",
    "\n",
    "# ! Prior knowledge\n",
    "# TODO: 類別型欄位，是否有大小關係? ⇒ 讓使用者去決定這個順序, 可以利用 Python 的 category type\n",
    "category_frame = X.select_dtypes(include=[\"object\", \"category\"])\n",
    "category_frame.head()"
   ]
  },
  {
   "cell_type": "code",
   "execution_count": null,
   "metadata": {},
   "outputs": [],
   "source": [
    "encoder = ce.OrdinalEncoder(cols=category_frame.columns)\n",
    "X = pd.DataFrame(encoder.fit_transform(X))\n",
    "X.head()"
   ]
  },
  {
   "cell_type": "markdown",
   "metadata": {},
   "source": [
    "#### Encoder mapping"
   ]
  },
  {
   "cell_type": "code",
   "execution_count": null,
   "metadata": {},
   "outputs": [],
   "source": [
    "category_column_mapping = encoder.mapping\n",
    "category_column_mapping"
   ]
  },
  {
   "cell_type": "markdown",
   "metadata": {},
   "source": [
    "### Split data to training and test dataset\n",
    "Purpose: find dependencies between target and feature column"
   ]
  },
  {
   "cell_type": "code",
   "execution_count": null,
   "metadata": {},
   "outputs": [],
   "source": [
    "from sklearn.model_selection import train_test_split\n",
    "\n",
    "X_train, X_test, y_train, y_test = train_test_split(X, y, test_size=0.33, random_state=42)"
   ]
  },
  {
   "cell_type": "code",
   "execution_count": null,
   "metadata": {},
   "outputs": [],
   "source": [
    "X_train.shape, X_test.shape"
   ]
  },
  {
   "cell_type": "markdown",
   "metadata": {},
   "source": [
    "## Fitting the model, evaluating the results and visualizing the trees\n",
    "* Data totally prepared\n",
    "* Classifier is instantiated\n",
    "* Model is fit onto the data\n",
    "* Ensure the model is neither over fitting and under fitting the data\n",
    "* Evaluate classifier: confusion matrix, precision score, f1 score, recall, support scores"
   ]
  },
  {
   "cell_type": "markdown",
   "metadata": {},
   "source": [
    "### Initial variables"
   ]
  },
  {
   "cell_type": "code",
   "execution_count": null,
   "metadata": {},
   "outputs": [],
   "source": [
    "from sklearn.tree import DecisionTreeClassifier\n",
    "\n",
    "row_counts = len(X.index)\n",
    "max_depth = 10\n",
    "min_samples_split = 0\n",
    "min_samples_leaf = 0\n",
    "\n",
    "is_big_data = row_counts > 10000\n",
    "\n",
    "if is_big_data:\n",
    "    # 確保葉節點有足夠的樣本進行有意義的分析，同時避免過度細分\n",
    "    # 100 - 1000\n",
    "    min_samples_leaf = 100\n",
    "    # 確保在分割內部節點之前有足夠的樣本數\n",
    "    # 10 - 50\n",
    "    min_samples_split = 10\n",
    "else:\n",
    "    # 確保每個葉節點至少有一些樣本進行分析\n",
    "    # 1 or 2\n",
    "    min_samples_leaf = 1\n",
    "    # 確保在內部節點的樣本數較少時也可以進行分割\n",
    "    # 2 - 5\n",
    "    min_samples_split = 2"
   ]
  },
  {
   "cell_type": "markdown",
   "metadata": {},
   "source": [
    "### Fitting training data into decision tree classifier"
   ]
  },
  {
   "cell_type": "code",
   "execution_count": null,
   "metadata": {},
   "outputs": [],
   "source": [
    "clf = DecisionTreeClassifier(\n",
    "    criterion=\"entropy\",\n",
    "    splitter=\"best\",\n",
    "    max_depth=max_depth,\n",
    "    random_state=0,\n",
    "    min_samples_split=min_samples_split,\n",
    "    min_samples_leaf=min_samples_leaf,\n",
    ")\n",
    "decision_tree = clf.fit(X_train, y_train)"
   ]
  },
  {
   "cell_type": "markdown",
   "metadata": {},
   "source": [
    "### Dependencies"
   ]
  },
  {
   "cell_type": "markdown",
   "metadata": {},
   "source": [
    "#### Feature importance"
   ]
  },
  {
   "cell_type": "code",
   "execution_count": null,
   "metadata": {},
   "outputs": [],
   "source": [
    "# Pair importance and feature\n",
    "feature_importance = clf.feature_importances_\n",
    "feature_importance_pairs = list(zip(feature_names, feature_importance))\n",
    "# Sort importance\n",
    "feature_importance_pairs.sort(key=lambda pair: pair[1], reverse=True)\n",
    "feature_importance_pairs"
   ]
  },
  {
   "cell_type": "markdown",
   "metadata": {},
   "source": [
    "#### Cross validation"
   ]
  },
  {
   "cell_type": "code",
   "execution_count": null,
   "metadata": {},
   "outputs": [],
   "source": [
    "from sklearn.model_selection import cross_val_score\n",
    "\n",
    "# cv: k-fold, default is 5-fold\n",
    "cross_validation_score = cross_val_score(clf, X, y, cv=5)\n",
    "print(\"交叉驗證分數:\", cross_validation_score)\n",
    "print(\"平均分數:\", cross_validation_score.mean())"
   ]
  },
  {
   "cell_type": "code",
   "execution_count": null,
   "metadata": {},
   "outputs": [],
   "source": [
    "y_predict_test = clf.predict(X_test)\n",
    "y_predict_test"
   ]
  },
  {
   "cell_type": "code",
   "execution_count": null,
   "metadata": {},
   "outputs": [],
   "source": [
    "y_predict_train = clf.predict(X_train)\n",
    "y_predict_train"
   ]
  },
  {
   "cell_type": "markdown",
   "metadata": {},
   "source": [
    "#### Model accuracy"
   ]
  },
  {
   "cell_type": "code",
   "execution_count": null,
   "metadata": {},
   "outputs": [],
   "source": [
    "from sklearn.metrics import accuracy_score\n",
    "\n",
    "print(\"Training set score: {:.4f}\".format(accuracy_score(y_train, y_predict_train)))\n",
    "print(\"Test set score: {0:0.4f}\".format(accuracy_score(y_test, y_predict_test)))"
   ]
  },
  {
   "cell_type": "markdown",
   "metadata": {},
   "source": [
    "### Resolve decision tree structure to json"
   ]
  },
  {
   "cell_type": "code",
   "execution_count": null,
   "metadata": {},
   "outputs": [],
   "source": [
    "from sklearn import tree\n",
    "from graphviz import Source\n",
    "\n",
    "output_file_path = f\"{Path.cwd().absolute()}/temp/temp.dot\""
   ]
  },
  {
   "cell_type": "markdown",
   "metadata": {},
   "source": [
    "#### Types definitions"
   ]
  },
  {
   "cell_type": "code",
   "execution_count": null,
   "metadata": {},
   "outputs": [],
   "source": [
    "from dataclasses import dataclass\n",
    "\n",
    "\n",
    "@dataclass\n",
    "class DecisionTreeNode:\n",
    "    id: int\n",
    "    labels: list[str]\n",
    "\n",
    "\n",
    "@dataclass\n",
    "class DecisionTreeEdge:\n",
    "    id: int\n",
    "    label: str\n",
    "    head: int\n",
    "    tail: int\n",
    "\n",
    "\n",
    "@dataclass\n",
    "class DecisionTreeGraph:\n",
    "    nodes: list[DecisionTreeNode]\n",
    "    edges: dict[str, DecisionTreeEdge]  # node1_node2 as key value\n",
    "\n",
    "\n",
    "@dataclass\n",
    "class DecisionTreePath:\n",
    "    path: list[int]\n",
    "    nodeLabel: dict[int, list[str]]"
   ]
  },
  {
   "cell_type": "markdown",
   "metadata": {},
   "source": [
    "#### Export decision tree from model and reconstruct DecisionTreeGraph"
   ]
  },
  {
   "cell_type": "code",
   "execution_count": null,
   "metadata": {},
   "outputs": [],
   "source": [
    "# The analysis goal is discovering data, not just training model\n",
    "# ! re-fit the hole data (target and features, X and y), not splitted data\n",
    "\n",
    "decision_tree = clf.fit(X, y)\n",
    "\n",
    "# * Scikit-learn decision tree:\n",
    "# Using optimized version of the CART algorithm\n",
    "# Not support categorical variable for now, that is, categorical variable need to encode\n",
    "\n",
    "# * Entropy range:\n",
    "# From 0 to 1 for binary classification (target has only two classes, true or false)\n",
    "# From 0 to log base 2 k where k is the number of classes\n",
    "\n",
    "dotData = tree.export_graphviz(\n",
    "    clf,\n",
    "    out_file=output_file_path,\n",
    "    feature_names=feature_names,\n",
    "    class_names=target_class_names,\n",
    "    max_depth=max_depth,\n",
    "    label=\"all\",\n",
    "    rounded=True,\n",
    "    filled=True,\n",
    ")\n",
    "\n",
    "with open(output_file_path, \"r\", encoding=\"utf-8\") as f:\n",
    "    dotData = f.read()\n",
    "\n",
    "# Use graphviz lib to convert dot format to json format\n",
    "source = Source(dotData)\n",
    "jsonGraph = source.pipe(format=\"json\").decode(\"utf-8\")\n",
    "dictGraph: dict = json.loads(jsonGraph)\n",
    "\n",
    "# Filter needed part\n",
    "nodes = list(\n",
    "    map(\n",
    "        lambda o: {\"id\": o.get(\"_gvid\"), \"labels\": o.get(\"label\").split(\"\\\\n\")},\n",
    "        dictGraph.get(\"objects\"),\n",
    "    )\n",
    ")\n",
    "\n",
    "edges = dict(\n",
    "    map(\n",
    "        lambda o: (\n",
    "            str(o.get(\"tail\")) + \"_\" + str(o.get(\"head\")),\n",
    "            {\n",
    "                \"id\": o.get(\"_gvid\"),\n",
    "                \"label\": o.get(\"headlabel\"),\n",
    "                \"head\": o.get(\"tail\"),\n",
    "                \"tail\": o.get(\"head\"),\n",
    "            },\n",
    "        ),\n",
    "        dictGraph.get(\"edges\"),\n",
    "    )\n",
    ")"
   ]
  },
  {
   "cell_type": "markdown",
   "metadata": {},
   "source": [
    "#### Store information"
   ]
  },
  {
   "cell_type": "code",
   "execution_count": null,
   "metadata": {},
   "outputs": [],
   "source": [
    "# Information storage\n",
    "# * type is category => store unique value\n",
    "# * type is numeric => store min and max value\n",
    "# * type is datetime => store min and max value\n",
    "\n",
    "# target name -> str\n",
    "# target unique values -> []\n",
    "# feature names -> []\n",
    "# feature values -> {\n",
    "#   feature1: {\n",
    "#     type, value\n",
    "#   }\n",
    "#   ...\n",
    "# }\n",
    "analysis_information: dict[str, str or list or dict] = {}\n",
    "analysis_information[\"target_name\"] = target\n",
    "analysis_information[\"target_values\"] = target_class_names\n",
    "analysis_information[\"feature_names\"] = feature_names\n",
    "\n",
    "# Numeric\n",
    "feature_values: dict[str, dict[str, str or list]] = {}\n",
    "for n in numerical_column_max_min_tuple:\n",
    "    feature_values[n[0]] = {\"type\": \"numeric\", \"value\": [n[1], n[2]]}\n",
    "\n",
    "# Datetime\n",
    "for d in datetime_column_earliest_latest_tuple:\n",
    "    format = \"%Y-%m-%d %X\"\n",
    "    feature_values[d[0]] = {\n",
    "        \"type\": \"datetime\",\n",
    "        \"value\": [d[1].strftime(format), d[2].strftime(format)],\n",
    "    }\n",
    "\n",
    "# Category\n",
    "for c in category_column_mapping:\n",
    "    feature_values[c[\"col\"]] = {\n",
    "        \"type\": \"category\",\n",
    "        \"value\": (c[\"mapping\"].index.to_list()),\n",
    "        \"mapping\": pd.Series(dict((v, k) for k, v in c[\"mapping\"].items())),\n",
    "    }\n",
    "    feature_values[c[\"col\"]][\"value\"].pop()\n",
    "\n",
    "unstored_features = list(set(feature_names) - set(list(feature_values.keys())))\n",
    "\n",
    "# TODO: Custom mapping => 使用者指定 1 男, 2 女\n",
    "for f in unstored_features:\n",
    "    value = df[f].astype(\"string\").unique().tolist()\n",
    "    feature_values[f] = {\n",
    "        \"type\": \"category\",\n",
    "        \"value\": value,\n",
    "        \"mapping\": pd.Series(dict((i + 1, value[i]) for i in range(len(value)))),\n",
    "    }\n",
    "\n",
    "analysis_information[\"feature_values\"] = feature_values\n",
    "# ! This is important information of analysis process\n",
    "analysis_information"
   ]
  },
  {
   "cell_type": "markdown",
   "metadata": {},
   "source": [
    "### Decision tree path parser"
   ]
  },
  {
   "cell_type": "code",
   "execution_count": null,
   "metadata": {},
   "outputs": [],
   "source": [
    "from math import log\n",
    "\n",
    "\n",
    "def DecisionTreePathParser(graph: DecisionTreeGraph, root_id: int = 0):\n",
    "    paths: list[DecisionTreePath] = []\n",
    "\n",
    "    # DFS: Depth-First Search\n",
    "    def dfs(current_id: int = 0, path: list[int] = []):\n",
    "        if not graph:\n",
    "            return\n",
    "        path.append(current_id)\n",
    "        edge_values = list(map(lambda edge: DecisionTreeEdge(**edge), list(graph.edges.values())))\n",
    "        outgoing_edges = list(filter(lambda edge: edge.head == current_id, edge_values))\n",
    "\n",
    "        # 如果目前節點沒有出邊（即為最底層節點），將路徑加入結果中\n",
    "        if len(outgoing_edges) == 0:\n",
    "            last_id = path[len(path) - 1]\n",
    "            last_node = DecisionTreeNode(**(graph.nodes[last_id]))\n",
    "            node_labels: dict[int, list[str]] = {}\n",
    "            # FIXME:a Maybe here will cause some bugs\n",
    "            # ! 排除 entropy 高的 path\n",
    "            entropy = float(last_node.labels[0].split(\" \")[2])\n",
    "\n",
    "            if entropy > log(len(feature_names), 2) / 2:\n",
    "                path.pop()\n",
    "                return\n",
    "            # ! ####################\n",
    "            node_labels[last_id] = last_node.labels\n",
    "\n",
    "            for i in range(0, len(path) - 1):\n",
    "                node_id = path[i]\n",
    "                labels = DecisionTreeNode(**(graph.nodes[node_id])).labels\n",
    "                # 如果下一個 node id 是上個 +1 則是 true，不然的話是 false\n",
    "                # * left edge <= => true\n",
    "                # * right edge > => false\n",
    "                next_id = path[i + 1]\n",
    "                if node_id + 1 != next_id:\n",
    "                    new_labels = [*labels]\n",
    "                    condition = new_labels[0]\n",
    "                    split_condition = condition.split(\" \")\n",
    "                    split_condition[1] = \">\"\n",
    "                    new_labels[0] = \" \".join(split_condition)\n",
    "                    node_labels[node_id] = new_labels\n",
    "                    continue\n",
    "                node_labels[node_id] = [*labels]\n",
    "\n",
    "            paths.append(DecisionTreePath([*path], node_labels))\n",
    "\n",
    "        # 遍歷目前節點的所有出邊\n",
    "        else:\n",
    "            for edge in outgoing_edges:\n",
    "                next_id = edge.tail\n",
    "\n",
    "                # 遞迴呼叫深度優先搜索\n",
    "                dfs(next_id, path)\n",
    "\n",
    "        # 回溯，從路徑中移除目前節點\n",
    "        path.pop()\n",
    "\n",
    "    dfs(root_id)\n",
    "\n",
    "    return paths\n",
    "\n",
    "\n",
    "decision_tree_graph = DecisionTreeGraph(nodes, edges)\n",
    "paths = DecisionTreePathParser(decision_tree_graph, 0)\n",
    "print(\"Path counts = {}\".format(len(paths)))"
   ]
  },
  {
   "cell_type": "markdown",
   "metadata": {},
   "source": [
    "### Decision tree path analyzer"
   ]
  },
  {
   "cell_type": "code",
   "execution_count": null,
   "metadata": {},
   "outputs": [],
   "source": [
    "# Decision tree path analyzer purpose: discover more information of paths\n",
    "# TODO: write decision tree path analyzer\n",
    "from math import ceil, floor\n",
    "\n",
    "\n",
    "def DecisionTreePathAnalyzer(paths: list[DecisionTreePath], target_unique: list[str], feature_names: list[str]):\n",
    "    path_analysis: dict = {}\n",
    "    for value in target_unique:\n",
    "        path_analysis[value] = []\n",
    "\n",
    "    for path in paths:\n",
    "        path_analysis_part = {}\n",
    "\n",
    "        for feature in feature_names:\n",
    "            path_analysis_part[feature] = analysis_information[\"feature_values\"][feature][\"value\"].copy()\n",
    "\n",
    "        for node_id in path.path:\n",
    "            labels = path.nodeLabel[node_id][0].split(\" \")\n",
    "            feature = labels[0]\n",
    "            symbol = labels[1]\n",
    "            value = float(labels[2])\n",
    "\n",
    "            if node_id == path.path[len(path.path) - 1]:\n",
    "                target_class = path.nodeLabel[node_id][3].split(\" \")[2]\n",
    "                path_analysis_part[\"entropy\"] = float(value)\n",
    "                path_analysis[target_class].append(path_analysis_part)\n",
    "                break\n",
    "\n",
    "            type = analysis_information[\"feature_values\"][labels[0]][\"type\"]\n",
    "            status = [symbol, type]\n",
    "\n",
    "            match status:\n",
    "                case [\"<=\", \"category\"]:\n",
    "                    mapping: pd.Series = analysis_information[\"feature_values\"][feature][\"mapping\"]\n",
    "                    filter_values = mapping.loc[1 : floor(value)].tolist()\n",
    "                    path_analysis_part[feature] = filter_values\n",
    "                case [\"<=\", \"numeric\"]:\n",
    "                    if value < path_analysis_part[feature][1]:\n",
    "                        path_analysis_part[feature][1] = value\n",
    "                case [\">\", \"category\"]:\n",
    "                    mapping: pd.Series = analysis_information[\"feature_values\"][feature][\"mapping\"]\n",
    "                    filter_values = mapping.loc[ceil(value) :].tolist()\n",
    "                    path_analysis_part[feature] = filter_values\n",
    "                case [\">\", \"numeric\"]:\n",
    "                    if value > path_analysis_part[feature][0]:\n",
    "                        path_analysis_part[feature][0] = value\n",
    "                case _:\n",
    "                    print(\"no match case\")\n",
    "\n",
    "    return path_analysis\n",
    "\n",
    "\n",
    "path_analysis: dict[list] = DecisionTreePathAnalyzer(\n",
    "    paths=paths, target_unique=target_class_names, feature_names=feature_names\n",
    ")\n",
    "\n",
    "path_analysis"
   ]
  },
  {
   "cell_type": "markdown",
   "metadata": {},
   "source": [
    "### Path data to JSON string"
   ]
  },
  {
   "cell_type": "code",
   "execution_count": null,
   "metadata": {},
   "outputs": [],
   "source": [
    "# paths_json_str = json.dumps(list(map(lambda path: path.__dict__, paths)))\n",
    "# paths_object = json.loads(paths_json_str)\n",
    "paths_json_str = json.dumps(path_analysis)\n",
    "paths_object = json.loads(paths_json_str)\n",
    "\n",
    "for k in paths_object:\n",
    "    print(k, len(paths_object[k]))\n",
    "\n",
    "paths_object"
   ]
  }
 ],
 "metadata": {
  "kernelspec": {
   "display_name": "Python 3",
   "language": "python",
   "name": "python3"
  },
  "language_info": {
   "codemirror_mode": {
    "name": "ipython",
    "version": 3
   },
   "file_extension": ".py",
   "mimetype": "text/x-python",
   "name": "python",
   "nbconvert_exporter": "python",
   "pygments_lexer": "ipython3",
   "version": "3.11.4"
  },
  "orig_nbformat": 4
 },
 "nbformat": 4,
 "nbformat_minor": 2
}
