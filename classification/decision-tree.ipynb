{
 "cells": [
  {
   "cell_type": "markdown",
   "metadata": {},
   "source": [
    "## Step 1: Importing the required libraries and datasets"
   ]
  },
  {
   "cell_type": "code",
   "execution_count": 1821,
   "metadata": {},
   "outputs": [],
   "source": [
    "import sys\n",
    "from pathlib import Path\n",
    "import pandas as pd\n",
    "from matplotlib import pyplot as plt\n",
    "from sqlalchemy import text"
   ]
  },
  {
   "cell_type": "code",
   "execution_count": 1822,
   "metadata": {},
   "outputs": [],
   "source": [
    "# Append root path on execution time that it can find setup.py\n",
    "sys.path.append(f\"{Path(Path.cwd()).parent.absolute()}/\")\n",
    "from setup import setup\n",
    "\n",
    "db = setup()"
   ]
  },
  {
   "cell_type": "code",
   "execution_count": 1823,
   "metadata": {},
   "outputs": [],
   "source": [
    "# Get test data from database\n",
    "result = db.execute(text(\"select * from RawDB.dbo.D139\"))\n",
    "df = pd.DataFrame(result.fetchall())"
   ]
  },
  {
   "cell_type": "markdown",
   "metadata": {},
   "source": [
    "Show origin data shape"
   ]
  },
  {
   "cell_type": "code",
   "execution_count": 1824,
   "metadata": {},
   "outputs": [
    {
     "data": {
      "text/plain": [
       "(147840, 7)"
      ]
     },
     "execution_count": 1824,
     "metadata": {},
     "output_type": "execute_result"
    }
   ],
   "source": [
    "df.shape"
   ]
  },
  {
   "cell_type": "code",
   "execution_count": 1825,
   "metadata": {},
   "outputs": [
    {
     "data": {
      "text/html": [
       "<div>\n",
       "<style scoped>\n",
       "    .dataframe tbody tr th:only-of-type {\n",
       "        vertical-align: middle;\n",
       "    }\n",
       "\n",
       "    .dataframe tbody tr th {\n",
       "        vertical-align: top;\n",
       "    }\n",
       "\n",
       "    .dataframe thead th {\n",
       "        text-align: right;\n",
       "    }\n",
       "</style>\n",
       "<table border=\"1\" class=\"dataframe\">\n",
       "  <thead>\n",
       "    <tr style=\"text-align: right;\">\n",
       "      <th></th>\n",
       "      <th>年月</th>\n",
       "      <th>地區</th>\n",
       "      <th>產業別</th>\n",
       "      <th>性別</th>\n",
       "      <th>教育程度類別</th>\n",
       "      <th>信用卡交易筆數</th>\n",
       "      <th>信用卡交易金額[新台幣]</th>\n",
       "    </tr>\n",
       "  </thead>\n",
       "  <tbody>\n",
       "    <tr>\n",
       "      <th>0</th>\n",
       "      <td>201511</td>\n",
       "      <td>南投縣</td>\n",
       "      <td>百貨</td>\n",
       "      <td>1</td>\n",
       "      <td>高中高職</td>\n",
       "      <td>419</td>\n",
       "      <td>386373</td>\n",
       "    </tr>\n",
       "    <tr>\n",
       "      <th>1</th>\n",
       "      <td>201511</td>\n",
       "      <td>南投縣</td>\n",
       "      <td>百貨</td>\n",
       "      <td>1</td>\n",
       "      <td>其他</td>\n",
       "      <td>246</td>\n",
       "      <td>196553</td>\n",
       "    </tr>\n",
       "    <tr>\n",
       "      <th>2</th>\n",
       "      <td>201511</td>\n",
       "      <td>南投縣</td>\n",
       "      <td>其他</td>\n",
       "      <td>1</td>\n",
       "      <td>博士</td>\n",
       "      <td>121</td>\n",
       "      <td>560606</td>\n",
       "    </tr>\n",
       "    <tr>\n",
       "      <th>3</th>\n",
       "      <td>201511</td>\n",
       "      <td>南投縣</td>\n",
       "      <td>其他</td>\n",
       "      <td>1</td>\n",
       "      <td>碩士</td>\n",
       "      <td>1397</td>\n",
       "      <td>6765858</td>\n",
       "    </tr>\n",
       "    <tr>\n",
       "      <th>4</th>\n",
       "      <td>201511</td>\n",
       "      <td>南投縣</td>\n",
       "      <td>其他</td>\n",
       "      <td>1</td>\n",
       "      <td>大學</td>\n",
       "      <td>4596</td>\n",
       "      <td>23640387</td>\n",
       "    </tr>\n",
       "  </tbody>\n",
       "</table>\n",
       "</div>"
      ],
      "text/plain": [
       "       年月   地區 產業別  性別 教育程度類別  信用卡交易筆數  信用卡交易金額[新台幣]\n",
       "0  201511  南投縣  百貨   1   高中高職      419        386373\n",
       "1  201511  南投縣  百貨   1     其他      246        196553\n",
       "2  201511  南投縣  其他   1     博士      121        560606\n",
       "3  201511  南投縣  其他   1     碩士     1397       6765858\n",
       "4  201511  南投縣  其他   1     大學     4596      23640387"
      ]
     },
     "execution_count": 1825,
     "metadata": {},
     "output_type": "execute_result"
    }
   ],
   "source": [
    "df.head()"
   ]
  },
  {
   "cell_type": "markdown",
   "metadata": {},
   "source": [
    "## Step 2: Exploratory data analysis and feature engineering\n",
    "* Clean and pre-processing data\n",
    "* Split data to training sets (70% - 80%) and test sets\n",
    "* Feature engineering: categorical values are encoded and other suitable changes are made to the data\n",
    "* Predictive model is ready"
   ]
  },
  {
   "cell_type": "code",
   "execution_count": 1826,
   "metadata": {},
   "outputs": [
    {
     "data": {
      "text/plain": [
       "Index(['年月', '地區', '產業別', '性別', '教育程度類別', '信用卡交易筆數', '信用卡交易金額[新台幣]'], dtype='object')"
      ]
     },
     "execution_count": 1826,
     "metadata": {},
     "output_type": "execute_result"
    }
   ],
   "source": [
    "column_names = df.columns\n",
    "column_names"
   ]
  },
  {
   "cell_type": "code",
   "execution_count": 1827,
   "metadata": {},
   "outputs": [
    {
     "name": "stdout",
     "output_type": "stream",
     "text": [
      "201511    1344\n",
      "202108    1344\n",
      "202207    1344\n",
      "202206    1344\n",
      "202205    1344\n",
      "          ... \n",
      "201808    1344\n",
      "201807    1344\n",
      "201806    1344\n",
      "201805    1344\n",
      "201510    1344\n",
      "Name: 年月, Length: 110, dtype: int64\n",
      "南投縣    9240\n",
      "雲林縣    9240\n",
      "宜蘭縣    9240\n",
      "嘉義縣    9240\n",
      "屏東縣    9240\n",
      "嘉義市    9240\n",
      "花蓮縣    9240\n",
      "台東縣    9240\n",
      "澎湖縣    9240\n",
      "金門縣    9240\n",
      "連江縣    9240\n",
      "基隆市    9240\n",
      "新竹市    9240\n",
      "新竹縣    9240\n",
      "苗栗縣    9240\n",
      "彰化縣    9240\n",
      "Name: 地區, dtype: int64\n",
      "百貨      21120\n",
      "其他      21120\n",
      "食       21120\n",
      "衣       21120\n",
      "住       21120\n",
      "行       21120\n",
      "文教康樂    21120\n",
      "Name: 產業別, dtype: int64\n",
      "1    73920\n",
      "2    73920\n",
      "Name: 性別, dtype: int64\n",
      "高中高職    24640\n",
      "其他      24640\n",
      "博士      24640\n",
      "碩士      24640\n",
      "大學      24640\n",
      "專科      24640\n",
      "Name: 教育程度類別, dtype: int64\n",
      "0        1776\n",
      "1         514\n",
      "3         355\n",
      "2         350\n",
      "4         329\n",
      "         ... \n",
      "6609        1\n",
      "27418       1\n",
      "18550       1\n",
      "30565       1\n",
      "25795       1\n",
      "Name: 信用卡交易筆數, Length: 26352, dtype: int64\n",
      "0           1774\n",
      "2000          38\n",
      "1600          14\n",
      "3000          13\n",
      "1800          12\n",
      "            ... \n",
      "478181         1\n",
      "26497074       1\n",
      "43698034       1\n",
      "23529471       1\n",
      "258214         1\n",
      "Name: 信用卡交易金額[新台幣], Length: 144548, dtype: int64\n"
     ]
    }
   ],
   "source": [
    "# Value counts of each columns\n",
    "for col in column_names:\n",
    "    print(df[col].value_counts())"
   ]
  },
  {
   "cell_type": "code",
   "execution_count": 1828,
   "metadata": {},
   "outputs": [
    {
     "data": {
      "text/plain": [
       "年月              0\n",
       "地區              0\n",
       "產業別             0\n",
       "性別              0\n",
       "教育程度類別          0\n",
       "信用卡交易筆數         0\n",
       "信用卡交易金額[新台幣]    0\n",
       "dtype: int64"
      ]
     },
     "execution_count": 1828,
     "metadata": {},
     "output_type": "execute_result"
    }
   ],
   "source": [
    "# Check if columns have any null value\n",
    "df.isnull().sum()"
   ]
  },
  {
   "cell_type": "code",
   "execution_count": 1829,
   "metadata": {},
   "outputs": [],
   "source": [
    "# Choose one target column (or called target attribute, that is, y) and drop from X (features)\n",
    "\n",
    "# 如果某個分類目標的準確率低，代表這個目標與其他屬性的關聯性低，也就是說，其他屬性不足以準確的分類 (預測) 這個目標\n",
    "# target = \"性別\"\n",
    "# target = \"教育程度類別\"\n",
    "# target = \"產業別\"\n",
    "target = \"信用卡交易金額[新台幣]\"\n",
    "skip_features = [\"年月\"]\n",
    "discrete_bin_num = 3\n",
    "X = df.drop([target] + skip_features, axis=1)\n",
    "# If value of target column are numeric, divide it into multiple intervals (discretize)\n",
    "y = df[target] if df[target].dtype == \"object\" else pd.qcut(df[target], q=discrete_bin_num, labels=False)"
   ]
  },
  {
   "cell_type": "markdown",
   "metadata": {},
   "source": [
    "Show features X and target y"
   ]
  },
  {
   "cell_type": "code",
   "execution_count": 1830,
   "metadata": {},
   "outputs": [
    {
     "data": {
      "text/html": [
       "<div>\n",
       "<style scoped>\n",
       "    .dataframe tbody tr th:only-of-type {\n",
       "        vertical-align: middle;\n",
       "    }\n",
       "\n",
       "    .dataframe tbody tr th {\n",
       "        vertical-align: top;\n",
       "    }\n",
       "\n",
       "    .dataframe thead th {\n",
       "        text-align: right;\n",
       "    }\n",
       "</style>\n",
       "<table border=\"1\" class=\"dataframe\">\n",
       "  <thead>\n",
       "    <tr style=\"text-align: right;\">\n",
       "      <th></th>\n",
       "      <th>地區</th>\n",
       "      <th>產業別</th>\n",
       "      <th>性別</th>\n",
       "      <th>教育程度類別</th>\n",
       "      <th>信用卡交易筆數</th>\n",
       "    </tr>\n",
       "  </thead>\n",
       "  <tbody>\n",
       "    <tr>\n",
       "      <th>0</th>\n",
       "      <td>南投縣</td>\n",
       "      <td>百貨</td>\n",
       "      <td>1</td>\n",
       "      <td>高中高職</td>\n",
       "      <td>419</td>\n",
       "    </tr>\n",
       "    <tr>\n",
       "      <th>1</th>\n",
       "      <td>南投縣</td>\n",
       "      <td>百貨</td>\n",
       "      <td>1</td>\n",
       "      <td>其他</td>\n",
       "      <td>246</td>\n",
       "    </tr>\n",
       "    <tr>\n",
       "      <th>2</th>\n",
       "      <td>南投縣</td>\n",
       "      <td>其他</td>\n",
       "      <td>1</td>\n",
       "      <td>博士</td>\n",
       "      <td>121</td>\n",
       "    </tr>\n",
       "    <tr>\n",
       "      <th>3</th>\n",
       "      <td>南投縣</td>\n",
       "      <td>其他</td>\n",
       "      <td>1</td>\n",
       "      <td>碩士</td>\n",
       "      <td>1397</td>\n",
       "    </tr>\n",
       "    <tr>\n",
       "      <th>4</th>\n",
       "      <td>南投縣</td>\n",
       "      <td>其他</td>\n",
       "      <td>1</td>\n",
       "      <td>大學</td>\n",
       "      <td>4596</td>\n",
       "    </tr>\n",
       "  </tbody>\n",
       "</table>\n",
       "</div>"
      ],
      "text/plain": [
       "    地區 產業別  性別 教育程度類別  信用卡交易筆數\n",
       "0  南投縣  百貨   1   高中高職      419\n",
       "1  南投縣  百貨   1     其他      246\n",
       "2  南投縣  其他   1     博士      121\n",
       "3  南投縣  其他   1     碩士     1397\n",
       "4  南投縣  其他   1     大學     4596"
      ]
     },
     "execution_count": 1830,
     "metadata": {},
     "output_type": "execute_result"
    }
   ],
   "source": [
    "X.head()"
   ]
  },
  {
   "cell_type": "code",
   "execution_count": 1831,
   "metadata": {},
   "outputs": [
    {
     "data": {
      "text/plain": [
       "0    0\n",
       "1    0\n",
       "2    0\n",
       "3    1\n",
       "4    2\n",
       "Name: 信用卡交易金額[新台幣], dtype: int64"
      ]
     },
     "execution_count": 1831,
     "metadata": {},
     "output_type": "execute_result"
    }
   ],
   "source": [
    "y.head()"
   ]
  },
  {
   "cell_type": "code",
   "execution_count": 1832,
   "metadata": {},
   "outputs": [],
   "source": [
    "from sklearn.model_selection import train_test_split\n",
    "\n",
    "X_train, X_test, y_train, y_test = train_test_split(X, y, test_size=0.33, random_state=42)"
   ]
  },
  {
   "cell_type": "code",
   "execution_count": 1833,
   "metadata": {},
   "outputs": [
    {
     "data": {
      "text/plain": [
       "((99052, 5), (48788, 5))"
      ]
     },
     "execution_count": 1833,
     "metadata": {},
     "output_type": "execute_result"
    }
   ],
   "source": [
    "X_train.shape, X_test.shape"
   ]
  },
  {
   "cell_type": "code",
   "execution_count": 1834,
   "metadata": {},
   "outputs": [
    {
     "data": {
      "text/plain": [
       "地區         object\n",
       "產業別        object\n",
       "性別          int64\n",
       "教育程度類別     object\n",
       "信用卡交易筆數     int64\n",
       "dtype: object"
      ]
     },
     "execution_count": 1834,
     "metadata": {},
     "output_type": "execute_result"
    }
   ],
   "source": [
    "X.dtypes"
   ]
  },
  {
   "cell_type": "code",
   "execution_count": 1835,
   "metadata": {},
   "outputs": [],
   "source": [
    "# Prepare category list for encoding\n",
    "category_frame = X.select_dtypes(include=[\"object\"])"
   ]
  },
  {
   "cell_type": "code",
   "execution_count": 1836,
   "metadata": {},
   "outputs": [
    {
     "data": {
      "text/html": [
       "<div>\n",
       "<style scoped>\n",
       "    .dataframe tbody tr th:only-of-type {\n",
       "        vertical-align: middle;\n",
       "    }\n",
       "\n",
       "    .dataframe tbody tr th {\n",
       "        vertical-align: top;\n",
       "    }\n",
       "\n",
       "    .dataframe thead th {\n",
       "        text-align: right;\n",
       "    }\n",
       "</style>\n",
       "<table border=\"1\" class=\"dataframe\">\n",
       "  <thead>\n",
       "    <tr style=\"text-align: right;\">\n",
       "      <th></th>\n",
       "      <th>地區</th>\n",
       "      <th>產業別</th>\n",
       "      <th>教育程度類別</th>\n",
       "    </tr>\n",
       "  </thead>\n",
       "  <tbody>\n",
       "    <tr>\n",
       "      <th>0</th>\n",
       "      <td>南投縣</td>\n",
       "      <td>百貨</td>\n",
       "      <td>高中高職</td>\n",
       "    </tr>\n",
       "    <tr>\n",
       "      <th>1</th>\n",
       "      <td>南投縣</td>\n",
       "      <td>百貨</td>\n",
       "      <td>其他</td>\n",
       "    </tr>\n",
       "    <tr>\n",
       "      <th>2</th>\n",
       "      <td>南投縣</td>\n",
       "      <td>其他</td>\n",
       "      <td>博士</td>\n",
       "    </tr>\n",
       "    <tr>\n",
       "      <th>3</th>\n",
       "      <td>南投縣</td>\n",
       "      <td>其他</td>\n",
       "      <td>碩士</td>\n",
       "    </tr>\n",
       "    <tr>\n",
       "      <th>4</th>\n",
       "      <td>南投縣</td>\n",
       "      <td>其他</td>\n",
       "      <td>大學</td>\n",
       "    </tr>\n",
       "  </tbody>\n",
       "</table>\n",
       "</div>"
      ],
      "text/plain": [
       "    地區 產業別 教育程度類別\n",
       "0  南投縣  百貨   高中高職\n",
       "1  南投縣  百貨     其他\n",
       "2  南投縣  其他     博士\n",
       "3  南投縣  其他     碩士\n",
       "4  南投縣  其他     大學"
      ]
     },
     "execution_count": 1836,
     "metadata": {},
     "output_type": "execute_result"
    }
   ],
   "source": [
    "category_frame.head()"
   ]
  },
  {
   "cell_type": "code",
   "execution_count": 1837,
   "metadata": {},
   "outputs": [],
   "source": [
    "# Transform category attribute into encoded value\n",
    "import category_encoders as ce\n",
    "\n",
    "encoder = ce.OrdinalEncoder(cols=category_frame.columns)\n",
    "X_train = encoder.fit_transform(X_train)\n",
    "X_test = encoder.fit_transform(X_test)"
   ]
  },
  {
   "cell_type": "code",
   "execution_count": 1838,
   "metadata": {},
   "outputs": [
    {
     "data": {
      "text/html": [
       "<div>\n",
       "<style scoped>\n",
       "    .dataframe tbody tr th:only-of-type {\n",
       "        vertical-align: middle;\n",
       "    }\n",
       "\n",
       "    .dataframe tbody tr th {\n",
       "        vertical-align: top;\n",
       "    }\n",
       "\n",
       "    .dataframe thead th {\n",
       "        text-align: right;\n",
       "    }\n",
       "</style>\n",
       "<table border=\"1\" class=\"dataframe\">\n",
       "  <thead>\n",
       "    <tr style=\"text-align: right;\">\n",
       "      <th></th>\n",
       "      <th>地區</th>\n",
       "      <th>產業別</th>\n",
       "      <th>性別</th>\n",
       "      <th>教育程度類別</th>\n",
       "      <th>信用卡交易筆數</th>\n",
       "    </tr>\n",
       "  </thead>\n",
       "  <tbody>\n",
       "    <tr>\n",
       "      <th>129818</th>\n",
       "      <td>1</td>\n",
       "      <td>1</td>\n",
       "      <td>2</td>\n",
       "      <td>1</td>\n",
       "      <td>123</td>\n",
       "    </tr>\n",
       "    <tr>\n",
       "      <th>11453</th>\n",
       "      <td>2</td>\n",
       "      <td>2</td>\n",
       "      <td>1</td>\n",
       "      <td>2</td>\n",
       "      <td>15250</td>\n",
       "    </tr>\n",
       "    <tr>\n",
       "      <th>142663</th>\n",
       "      <td>3</td>\n",
       "      <td>2</td>\n",
       "      <td>1</td>\n",
       "      <td>3</td>\n",
       "      <td>24631</td>\n",
       "    </tr>\n",
       "    <tr>\n",
       "      <th>138042</th>\n",
       "      <td>4</td>\n",
       "      <td>2</td>\n",
       "      <td>1</td>\n",
       "      <td>4</td>\n",
       "      <td>13841</td>\n",
       "    </tr>\n",
       "    <tr>\n",
       "      <th>139111</th>\n",
       "      <td>5</td>\n",
       "      <td>3</td>\n",
       "      <td>1</td>\n",
       "      <td>3</td>\n",
       "      <td>1983</td>\n",
       "    </tr>\n",
       "  </tbody>\n",
       "</table>\n",
       "</div>"
      ],
      "text/plain": [
       "        地區  產業別  性別  教育程度類別  信用卡交易筆數\n",
       "129818   1    1   2       1      123\n",
       "11453    2    2   1       2    15250\n",
       "142663   3    2   1       3    24631\n",
       "138042   4    2   1       4    13841\n",
       "139111   5    3   1       3     1983"
      ]
     },
     "execution_count": 1838,
     "metadata": {},
     "output_type": "execute_result"
    }
   ],
   "source": [
    "X_train.head()"
   ]
  },
  {
   "cell_type": "markdown",
   "metadata": {},
   "source": [
    "\n",
    "## Step 3: Fitting the model, evaluating the results and visualizing the trees\n",
    "* Data totally prepared\n",
    "* Classifier is instantiated\n",
    "* Model is fit onto the data\n",
    "* Ensure the model is neither over fitting and under fitting the data\n",
    "* Evaluate classifier: confusion matrix, precision score, f1 score, recall, support scores"
   ]
  },
  {
   "cell_type": "code",
   "execution_count": 1839,
   "metadata": {},
   "outputs": [],
   "source": [
    "from sklearn.tree import DecisionTreeClassifier\n",
    "from sklearn.metrics import accuracy_score"
   ]
  },
  {
   "cell_type": "code",
   "execution_count": 1840,
   "metadata": {},
   "outputs": [],
   "source": [
    "clf = DecisionTreeClassifier(criterion=\"entropy\", max_depth=3, random_state=0)\n",
    "decision_tree = clf.fit(X_train, y_train)"
   ]
  },
  {
   "cell_type": "code",
   "execution_count": 1841,
   "metadata": {},
   "outputs": [
    {
     "data": {
      "text/plain": [
       "array([0, 2, 0, ..., 0, 0, 1], dtype=int64)"
      ]
     },
     "execution_count": 1841,
     "metadata": {},
     "output_type": "execute_result"
    }
   ],
   "source": [
    "y_predict_test = clf.predict(X_test)\n",
    "y_predict_test"
   ]
  },
  {
   "cell_type": "code",
   "execution_count": 1842,
   "metadata": {},
   "outputs": [
    {
     "data": {
      "text/plain": [
       "array([0, 2, 2, ..., 2, 0, 0], dtype=int64)"
      ]
     },
     "execution_count": 1842,
     "metadata": {},
     "output_type": "execute_result"
    }
   ],
   "source": [
    "y_predict_train = clf.predict(X_train)\n",
    "y_predict_train"
   ]
  },
  {
   "cell_type": "code",
   "execution_count": 1843,
   "metadata": {},
   "outputs": [
    {
     "name": "stdout",
     "output_type": "stream",
     "text": [
      "Training set score: 0.7819\n",
      "Test set score: 0.7489\n"
     ]
    }
   ],
   "source": [
    "print(\"Training set score: {:.4f}\".format(accuracy_score(y_train, y_predict_train)))\n",
    "print(\"Test set score: {0:0.4f}\".format(accuracy_score(y_test, y_predict_test)))"
   ]
  },
  {
   "cell_type": "code",
   "execution_count": 1844,
   "metadata": {},
   "outputs": [
    {
     "data": {
      "text/plain": [
       "[Text(0.5, 0.875, 'x[4] <= 1729.5\\nentropy = 1.585\\nsamples = 99052\\nvalue = [33092, 33095, 32865]'),\n",
       " Text(0.25, 0.625, 'x[4] <= 419.5\\nentropy = 0.874\\nsamples = 44927\\nvalue = [32561, 12226, 140]'),\n",
       " Text(0.125, 0.375, 'x[4] <= 292.5\\nentropy = 0.114\\nsamples = 24278\\nvalue = [23906, 372, 0]'),\n",
       " Text(0.0625, 0.125, 'entropy = 0.034\\nsamples = 20799\\nvalue = [20726, 73, 0]'),\n",
       " Text(0.1875, 0.125, 'entropy = 0.423\\nsamples = 3479\\nvalue = [3180, 299, 0]'),\n",
       " Text(0.375, 0.375, 'x[1] <= 2.5\\nentropy = 1.034\\nsamples = 20649\\nvalue = [8655, 11854, 140]'),\n",
       " Text(0.3125, 0.125, 'entropy = 0.746\\nsamples = 4995\\nvalue = [3933, 1062, 0]'),\n",
       " Text(0.4375, 0.125, 'entropy = 0.952\\nsamples = 15654\\nvalue = [4722, 10792, 140]'),\n",
       " Text(0.75, 0.625, 'x[4] <= 12821.0\\nentropy = 1.034\\nsamples = 54125\\nvalue = [531, 20869, 32725]'),\n",
       " Text(0.625, 0.375, 'x[4] <= 2930.5\\nentropy = 1.086\\nsamples = 41338\\nvalue = [531, 20674, 20133]'),\n",
       " Text(0.5625, 0.125, 'entropy = 0.998\\nsamples = 11712\\nvalue = [507, 8648, 2557]'),\n",
       " Text(0.6875, 0.125, 'entropy = 0.983\\nsamples = 29626\\nvalue = [24, 12026, 17576]'),\n",
       " Text(0.875, 0.375, 'x[4] <= 15826.5\\nentropy = 0.114\\nsamples = 12787\\nvalue = [0, 195, 12592]'),\n",
       " Text(0.8125, 0.125, 'entropy = 0.335\\nsamples = 2970\\nvalue = [0, 184, 2786]'),\n",
       " Text(0.9375, 0.125, 'entropy = 0.013\\nsamples = 9817\\nvalue = [0, 11, 9806]')]"
      ]
     },
     "execution_count": 1844,
     "metadata": {},
     "output_type": "execute_result"
    },
    {
     "data": {
      "image/png": "[encoded data removed]",
      "text/plain": [
       "<Figure size 1200x500 with 1 Axes>"
      ]
     },
     "metadata": {},
     "output_type": "display_data"
    }
   ],
   "source": [
    "plt.figure(figsize=(12, 8))\n",
    "from sklearn import tree\n",
    "\n",
    "tree.plot_tree(decision_tree)"
   ]
  }
 ],
 "metadata": {
  "kernelspec": {
   "display_name": "Python 3",
   "language": "python",
   "name": "python3"
  },
  "language_info": {
   "codemirror_mode": {
    "name": "ipython",
    "version": 3
   },
   "file_extension": ".py",
   "mimetype": "text/x-python",
   "name": "python",
   "nbconvert_exporter": "python",
   "pygments_lexer": "ipython3",
   "version": "3.10.7"
  },
  "orig_nbformat": 4
 },
 "nbformat": 4,
 "nbformat_minor": 2
}
